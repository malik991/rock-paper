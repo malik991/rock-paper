{
 "cells": [
  {
   "cell_type": "markdown",
   "metadata": {},
   "source": [
    "Rock , Paper, Scissores\n"
   ]
  },
  {
   "cell_type": "code",
   "execution_count": 1,
   "metadata": {},
   "outputs": [
    {
     "name": "stdout",
     "output_type": "stream",
     "text": [
      "\n",
      "    _______\n",
      "---'   ____)\n",
      "      (_____)\n",
      "      (_____)\n",
      "      (____)\n",
      "---.__(___)\n",
      "\n",
      "\n",
      " Computer Choose:\n",
      "2\n",
      "\n",
      "    _______\n",
      "---'   ____)____\n",
      "          ______)\n",
      "       __________)\n",
      "      (____)\n",
      "---.__(___)\n",
      "\n",
      "You win\n"
     ]
    }
   ],
   "source": [
    "rock = '''\n",
    "    _______\n",
    "---'   ____)\n",
    "      (_____)\n",
    "      (_____)\n",
    "      (____)\n",
    "---.__(___)\n",
    "'''\n",
    "\n",
    "paper = '''\n",
    "    _______\n",
    "---'   ____)____\n",
    "          ______)\n",
    "          _______)\n",
    "         _______)\n",
    "---.__________)\n",
    "'''\n",
    "\n",
    "scissors = '''\n",
    "    _______\n",
    "---'   ____)____\n",
    "          ______)\n",
    "       __________)\n",
    "      (____)\n",
    "---.__(___)\n",
    "'''\n",
    "\n",
    "#Write your code below this line 👇\n",
    "import random\n",
    "#print(\"\")\n",
    "game_images = [rock, paper, scissors]\n",
    "user_input = int(input(\"What do you choose? Type 0 for Rock, 1 for Paper or 2 for Scissors.\"))\n",
    "# if user_input == 0:\n",
    "#   print(rock)\n",
    "# elif user_input == 1:\n",
    "#   print(paper)\n",
    "# elif user_input == 2:\n",
    "#   print(scissors)\n",
    "if user_input >= 0 and user_input <= 2:\n",
    "    print(game_images[user_input])\n",
    "else:\n",
    "  print(\"Invalid input\")\n",
    "\n",
    "\n",
    "print(\"\\n Computer Choose:\")\n",
    "computer_input = random.randint(0,2)\n",
    "print(computer_input)\n",
    "# if computer_input == 0:\n",
    "#   print(rock)\n",
    "# elif computer_input == 1:\n",
    "#   print(paper)\n",
    "# elif computer_input == 2:\n",
    "#   print(scissors)\n",
    "if computer_input >= 0 and computer_input <= 2:\n",
    "    print(game_images[computer_input])\n",
    "else:\n",
    "  print(\"Invalid input\")\n",
    "\n",
    "if user_input == 0 and computer_input == 2:\n",
    "    print(\"You win\")\n",
    "elif user_input == 2 and computer_input == 1:\n",
    "    print(\"You win\")\n",
    "elif user_input == 1 and computer_input == 0:\n",
    "    print(\"You win\")\n",
    "elif user_input == computer_input:\n",
    "    print(\"it's a draw\")\n",
    "else:\n",
    "    print(\"You lose\")\n"
   ]
  }
 ],
 "metadata": {
  "kernelspec": {
   "display_name": "Python 3",
   "language": "python",
   "name": "python3"
  },
  "language_info": {
   "codemirror_mode": {
    "name": "ipython",
    "version": 3
   },
   "file_extension": ".py",
   "mimetype": "text/x-python",
   "name": "python",
   "nbconvert_exporter": "python",
   "pygments_lexer": "ipython3",
   "version": "3.12.4"
  }
 },
 "nbformat": 4,
 "nbformat_minor": 2
}
